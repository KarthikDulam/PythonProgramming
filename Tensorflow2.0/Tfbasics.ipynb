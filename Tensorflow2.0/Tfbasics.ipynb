{
 "cells": [
  {
   "cell_type": "code",
   "execution_count": 3,
   "metadata": {},
   "outputs": [
    {
     "output_type": "stream",
     "name": "stdout",
     "text": "2.1.0\n"
    }
   ],
   "source": [
    "import tensorflow as tf\n",
    "print(tf.__version__)"
   ]
  },
  {
   "cell_type": "markdown",
   "metadata": {},
   "source": [
    "Rank 0 Tensor"
   ]
  },
  {
   "cell_type": "code",
   "execution_count": 5,
   "metadata": {},
   "outputs": [
    {
     "output_type": "execute_result",
     "data": {
      "text/plain": "<tf.Tensor: shape=(2, 2), dtype=int32, numpy=\narray([[1, 2],\n       [3, 4]])>"
     },
     "metadata": {},
     "execution_count": 5
    }
   ],
   "source": [
    "tf.Variable(\"Hello World!\", tf.string)\n",
    "tf.Variable(100.5)\n",
    "tf.constant([1,2,3,4],shape=(2,2))"
   ]
  },
  {
   "cell_type": "markdown",
   "metadata": {},
   "source": [
    "Rank 1 Tensor : Numpy Arrays "
   ]
  },
  {
   "cell_type": "code",
   "execution_count": 9,
   "metadata": {},
   "outputs": [
    {
     "output_type": "stream",
     "name": "stdout",
     "text": "<tf.Variable 'float:0' shape=(2,) dtype=float32, numpy=array([10.55, 11.55], dtype=float32)>,<tf.Variable 'Variable:0' shape=(3,) dtype=int32, numpy=array([1, 2, 3])>\n"
    }
   ],
   "source": [
    "float_var= tf.Variable([10.55,11.55], tf.float32,name = \"float\" )\n",
    "int_var= tf.Variable([1,2,3], tf.int64)\n",
    "print(\"{0},{1}\".format(float_var,int_var))"
   ]
  },
  {
   "cell_type": "markdown",
   "metadata": {},
   "source": [
    "Rank 2 Tensors: Matrix"
   ]
  },
  {
   "cell_type": "code",
   "execution_count": 12,
   "metadata": {},
   "outputs": [
    {
     "output_type": "stream",
     "name": "stdout",
     "text": "<tf.Variable 'Variable:0' shape=(2, 2) dtype=float32, numpy=\narray([[19.99, 15.55],\n       [14.  , 12.  ]], dtype=float32)>\n"
    }
   ],
   "source": [
    "float_var = tf.Variable([[19.99,15.55],[14,12]], shape=(2,2))\n",
    "print(\"{0}\".format(float_var))"
   ]
  }
 ],
 "metadata": {
  "language_info": {
   "codemirror_mode": {
    "name": "ipython",
    "version": 3
   },
   "file_extension": ".py",
   "mimetype": "text/x-python",
   "name": "python",
   "nbconvert_exporter": "python",
   "pygments_lexer": "ipython3",
   "version": "3.7.7-final"
  },
  "orig_nbformat": 2,
  "kernelspec": {
   "name": "python3",
   "display_name": "Python 3"
  }
 },
 "nbformat": 4,
 "nbformat_minor": 2
}